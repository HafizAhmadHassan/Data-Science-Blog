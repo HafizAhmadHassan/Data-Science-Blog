{
 "cells": [
  {
   "cell_type": "markdown",
   "id": "95101306",
   "metadata": {},
   "source": [
    "# React and HTML\n",
    "react can be written in html but for the production it should be required to install nodejs and npm \n",
    "\n",
    "react directly can be written in javascript\n",
    "\n",
    "Babel, allows us to write JSX syntax and ES6 in older browsers.\n"
   ]
  },
  {
   "cell_type": "code",
   "execution_count": null,
   "id": "3f835d54",
   "metadata": {},
   "outputs": [],
   "source": [
    "<!DOCTYPE html>\n",
    "<html>\n",
    "  <head>\n",
    "    <script src=\"https://unpkg.com/react@18/umd/react.development.js\" crossorigin></script>\n",
    "    <script src=\"https://unpkg.com/react-dom@18/umd/react-dom.development.js\" crossorigin></script>\n",
    "    <script src=\"https://unpkg.com/@babel/standalone/babel.min.js\"></script>\n",
    "  </head>\n",
    "  <body>\n",
    "    <div id = \"mydiv\"></div>\n",
    "    \n",
    "    <script type=\"text/babel\">\n",
    "        function Hello(){\n",
    "            return <h1>Hello Hassan</h1>;\n",
    "            \n",
    "        }\n",
    "    \n",
    "        ReactDOM.render(<Hello/>, docuement.getElementById('mydiv'))\n",
    "        \n",
    "    </script>\n",
    "\n"
   ]
  },
  {
   "cell_type": "code",
   "execution_count": null,
   "id": "24e092b1",
   "metadata": {},
   "outputs": [],
   "source": [
    " <script type=\"text/babel\">\n",
    "      function Hassan() {\n",
    "        return <h1>Hello Hassan!</h1>;\n",
    "      }\n",
    "      \n",
    "      ReactDOM.render(<Hassan />, document.getElementById('mydiv'))\n",
    "    </script>\n"
   ]
  },
  {
   "cell_type": "markdown",
   "id": "42d66209",
   "metadata": {},
   "source": [
    "# Pre-Reqs ES6\n",
    "\n",
    "- Classes\n",
    "- Arrow Fuctions"
   ]
  },
  {
   "cell_type": "markdown",
   "id": "ef4a8f67",
   "metadata": {},
   "source": [
    "# Class\n",
    "\n",
    "\n"
   ]
  },
  {
   "cell_type": "code",
   "execution_count": null,
   "id": "1f1e305b",
   "metadata": {},
   "outputs": [],
   "source": [
    "<!DOCTYPE html>\n",
    "<html>\n",
    "\n",
    "<body>\n",
    "  \n",
    "<script>\n",
    "class Person {\n",
    "  constructor(name,age) {\n",
    "    this.name = name;\n",
    "    this.age =age\n",
    "  }\n",
    "}\n",
    "\n",
    "const hassan = new Person(\"My name is Hassan and age is \",25);\n",
    "\n",
    "document.write(hassan.name,hassan.age);\n",
    "</script>\n",
    "\n",
    "</body>\n",
    "</html>"
   ]
  },
  {
   "cell_type": "markdown",
   "id": "202e107e",
   "metadata": {},
   "source": [
    "# Arrow Function"
   ]
  },
  {
   "cell_type": "code",
   "execution_count": 1,
   "id": "8d7c5787",
   "metadata": {
    "collapsed": true
   },
   "outputs": [
    {
     "ename": "SyntaxError",
     "evalue": "invalid syntax (<ipython-input-1-9e1414d86da6>, line 1)",
     "output_type": "error",
     "traceback": [
      "\u001b[0;36m  File \u001b[0;32m\"<ipython-input-1-9e1414d86da6>\"\u001b[0;36m, line \u001b[0;32m1\u001b[0m\n\u001b[0;31m    function hello(){\u001b[0m\n\u001b[0m             ^\u001b[0m\n\u001b[0;31mSyntaxError\u001b[0m\u001b[0;31m:\u001b[0m invalid syntax\n"
     ]
    }
   ],
   "source": [
    "function hello(){\n",
    "    \n",
    "    return \"Hello World\"\n",
    "}\n",
    "\n"
   ]
  },
  {
   "cell_type": "code",
   "execution_count": null,
   "id": "3eb8c002",
   "metadata": {},
   "outputs": [],
   "source": [
    "hello =() => {\n",
    "    return \"Hello World\"\n",
    "}\n",
    "\n",
    "# By Default\n",
    "\n",
    "hello =() => \"Hello World\"\n"
   ]
  },
  {
   "cell_type": "code",
   "execution_count": null,
   "id": "2a7f3f35",
   "metadata": {},
   "outputs": [],
   "source": [
    "<!DOCTYPE html>\n",
    "<html>\n",
    "\n",
    "<body>\n",
    "\n",
    "    <h1>Arrow Function</h1>\n",
    "\n",
    "    <h2>Implicit Return</h2>\n",
    "\n",
    "    <p>The arrow function expects a return value, and returns the value by default, without the <strong>return</strong> keyword.</p>\n",
    "\n",
    "    <p id=\"demo\"></p>\n",
    "\n",
    "    <script>\n",
    "    hello = () => \"Hello World!\";\n",
    "\n",
    "    document.getElementById(\"demo\").innerHTML = hello();\n",
    "    </script>\n",
    "\n",
    "</body>\n",
    "</html>\n"
   ]
  },
  {
   "cell_type": "code",
   "execution_count": null,
   "id": "d23ffaa6",
   "metadata": {},
   "outputs": [],
   "source": [
    "<!DOCTYPE html>\n",
    "<html>\n",
    "\n",
    "  <head>\n",
    "    <script src=\"https://unpkg.com/react@18/umd/react.development.js\" crossorigin></script>\n",
    "    <script src=\"https://unpkg.com/react-dom@18/umd/react-dom.development.js\" crossorigin></script>\n",
    "    <script src=\"https://unpkg.com/@babel/standalone/babel.min.js\"></script>\n",
    "  </head>\n",
    "\n",
    "<body>\n",
    "\n",
    "<h1>Arrow Function</h1>\n",
    "\n",
    "<h2>Implicit Return</h2>\n",
    "\n",
    "<p>The arrow function expects a return value, and returns the value by default, without the <strong>return</strong> keyword.</p>\n",
    "\n",
    "<p id=\"demo\"></p>\n",
    "\n",
    "<div id =\"hassan\"></div>\n",
    "\n",
    "\n",
    "<script>\n",
    "hello = () => \"Hello World!\";\n",
    "\n",
    "\n",
    "\n",
    "\n",
    "document.getElementById(\"demo\").innerHTML = hello();\n",
    "\n",
    "\n",
    "</script>\n",
    "\n",
    "<script type=\"text/babel\">\n",
    "  function hass(){\n",
    "      return <h1> Hi Hassan </h1>;\n",
    "  }\n",
    "\n",
    "\n",
    "\n",
    "\n",
    "ReactDOM.render(hass(), document.getElementById('hassan'))\n",
    "\n",
    "\n",
    "</script>\n",
    "\n",
    "</body>\n",
    "</html>\n"
   ]
  }
 ],
 "metadata": {
  "kernelspec": {
   "display_name": "Python 3",
   "language": "python",
   "name": "python3"
  },
  "language_info": {
   "codemirror_mode": {
    "name": "ipython",
    "version": 3
   },
   "file_extension": ".py",
   "mimetype": "text/x-python",
   "name": "python",
   "nbconvert_exporter": "python",
   "pygments_lexer": "ipython3",
   "version": "3.8.3"
  }
 },
 "nbformat": 4,
 "nbformat_minor": 5
}
