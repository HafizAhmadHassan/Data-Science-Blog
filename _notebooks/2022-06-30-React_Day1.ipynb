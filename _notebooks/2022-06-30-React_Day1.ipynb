{
 "cells": [
  {
   "cell_type": "markdown",
   "id": "14946c2d",
   "metadata": {},
   "source": [
    "# What is React\n",
    "\n",
    "React is javascript library used to develop user interfaces\n",
    "1. Creates Virtual DOM\n",
    "2. React changes what needs to be changed\n",
    "\n",
    "# React Tutorial\n",
    "Simple example is shown Below"
   ]
  },
  {
   "cell_type": "code",
   "execution_count": null,
   "id": "08b0adf8",
   "metadata": {},
   "outputs": [],
   "source": [
    "import React from \"react\";\n",
    "import ReactDOM from \"react-dom/client\";\n",
    "\n",
    "\n",
    "function Hello(props){\n",
    "    \n",
    "    return <h1>Hello World</h1>\n",
    "}\n",
    "\n",
    "const root = ReactDOM.createRoot(docuemnt.getElementById(\"root\"));\n",
    "root.render(<Hello/>);\n"
   ]
  },
  {
   "cell_type": "code",
   "execution_count": null,
   "id": "83e32f45",
   "metadata": {},
   "outputs": [],
   "source": []
  }
 ],
 "metadata": {
  "kernelspec": {
   "display_name": "Python 3",
   "language": "python",
   "name": "python3"
  },
  "language_info": {
   "codemirror_mode": {
    "name": "ipython",
    "version": 3
   },
   "file_extension": ".py",
   "mimetype": "text/x-python",
   "name": "python",
   "nbconvert_exporter": "python",
   "pygments_lexer": "ipython3",
   "version": "3.8.3"
  }
 },
 "nbformat": 4,
 "nbformat_minor": 5
}
